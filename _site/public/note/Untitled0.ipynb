{
 "metadata": {
  "name": "",
  "signature": "sha256:feb90527e54efc9ee31ca541914c184f73205f9800c375177d3572cc0e471a46"
 },
 "nbformat": 3,
 "nbformat_minor": 0,
 "worksheets": [
  {
   "cells": [
    {
     "cell_type": "markdown",
     "metadata": {},
     "source": [
      "**Natural Language Understanding - Intent Detection with Keras and MLP**\n",
      "\n",
      "\n",
      "In this example we will look at the problem of natural language understanding.\n",
      "The aim is simply to understand the meaning of sentense. \n",
      "This is a unsolved problem in the context of open domain sentense understaing ie there exists\n",
      "no system that can understand the meaning of any open domain sentense.\n",
      "However many of the techniques that work well do so within a specific domain.\n",
      "\n",
      "\n",
      "An intent is a group of utterances with similar meaning\n",
      "\n",
      "Airline Travel Information System (ATIS) dataset is a standard data set used to demonstrate\n",
      "and benchmark various NLU algorithms.ATIS consists of spoken queries on flight related information\n",
      "\n",
      "we will use modified version of the ATIS dataset used in the project [https://github.com/yvchen/JointSLU](https://github.com/yvchen/JointSLU/tree/master/data) . This database contains spoken queries,associated intents and entities in the statements.\n",
      "\n",
      "The dataset consists of sentenses labelled/encoded in Inside Outside Beginning (IOB) representation.\n",
      "\n",
      "An example utterance is \n",
      "\n",
      "\n",
      "Show |flights |from |Boston |to |New |York |today | EOS \n",
      "--|-- |-- |--|-- |--|--|--|--\n",
      "O |O |O |B-dept |O |B-arr |I-arr |B-date | atis_flight\n",
      "\n",
      "\n",
      "The aim would be to first understand the intent of the statement,which in the above examples is to show flight information (atis_flight ) .The second operation is to understand that source city is boston,departure city is new york, and date and time is specified by today.Second operation is called as slot filling . \n",
      "\n",
      "First task is to read the ATIS dataset\n"
     ]
    },
    {
     "cell_type": "code",
     "collapsed": false,
     "input": [
      "def processCSVData(filename):\n",
      "    output=[]\n",
      "    lables=[]\n",
      "    with open(filename, 'r') as f:\n",
      "        for rowx in f:\n",
      "            r={}\n",
      "            words = rowx.split()\n",
      "            intent_name=words[len( words)-1]\n",
      "            words=words[0:len( words)-1]\n",
      "            aa=\"\";\n",
      "            cc=\"\";\n",
      "            state=-1\n",
      "            for w in words:\n",
      "                if w==\"EOS\":\n",
      "                    state=1;\n",
      "\n",
      "                if state==0:\n",
      "                    aa=aa+\" \"+w;\n",
      "                if state==1:\n",
      "                    cc=cc+\" \"+w\n",
      "                if w==\"BOS\":\n",
      "                    state=0\n",
      "\n",
      "            r['text']=aa\n",
      "            r['tags'] =cc\n",
      "            r['intent']=intent_name\n",
      "            lables.append(intent_name)\n",
      "            output.append(r)\n",
      "    lables=np.unique(lables)\n",
      "    return output,lables\n",
      "\n",
      "output,lables=processCSVData(\"atis.txt\")\n",
      "#print output[0],lables\n",
      "print \"number of samples\",len(output)\n",
      "print \"number of intent\",len(lables)"
     ],
     "language": "python",
     "metadata": {},
     "outputs": [
      {
       "ename": "IOError",
       "evalue": "[Errno 2] No such file or directory: 'atis.txt'",
       "output_type": "pyerr",
       "traceback": [
        "\u001b[0;31m---------------------------------------------------------------------------\u001b[0m\n\u001b[0;31mIOError\u001b[0m                                   Traceback (most recent call last)",
        "\u001b[0;32m<ipython-input-2-df6844e7fc27>\u001b[0m in \u001b[0;36m<module>\u001b[0;34m()\u001b[0m\n\u001b[1;32m     30\u001b[0m     \u001b[0;32mreturn\u001b[0m \u001b[0moutput\u001b[0m\u001b[0;34m,\u001b[0m\u001b[0mlables\u001b[0m\u001b[0;34m\u001b[0m\u001b[0m\n\u001b[1;32m     31\u001b[0m \u001b[0;34m\u001b[0m\u001b[0m\n\u001b[0;32m---> 32\u001b[0;31m \u001b[0moutput\u001b[0m\u001b[0;34m,\u001b[0m\u001b[0mlables\u001b[0m\u001b[0;34m=\u001b[0m\u001b[0mprocessCSVData\u001b[0m\u001b[0;34m(\u001b[0m\u001b[0;34m\"atis.txt\"\u001b[0m\u001b[0;34m)\u001b[0m\u001b[0;34m\u001b[0m\u001b[0m\n\u001b[0m\u001b[1;32m     33\u001b[0m \u001b[0;31m#print output[0],lables\u001b[0m\u001b[0;34m\u001b[0m\u001b[0;34m\u001b[0m\u001b[0m\n\u001b[1;32m     34\u001b[0m \u001b[0;32mprint\u001b[0m \u001b[0;34m\"number of samples\"\u001b[0m\u001b[0;34m,\u001b[0m\u001b[0mlen\u001b[0m\u001b[0;34m(\u001b[0m\u001b[0moutput\u001b[0m\u001b[0;34m)\u001b[0m\u001b[0;34m\u001b[0m\u001b[0m\n",
        "\u001b[0;32m<ipython-input-2-df6844e7fc27>\u001b[0m in \u001b[0;36mprocessCSVData\u001b[0;34m(filename)\u001b[0m\n\u001b[1;32m      2\u001b[0m     \u001b[0moutput\u001b[0m\u001b[0;34m=\u001b[0m\u001b[0;34m[\u001b[0m\u001b[0;34m]\u001b[0m\u001b[0;34m\u001b[0m\u001b[0m\n\u001b[1;32m      3\u001b[0m     \u001b[0mlables\u001b[0m\u001b[0;34m=\u001b[0m\u001b[0;34m[\u001b[0m\u001b[0;34m]\u001b[0m\u001b[0;34m\u001b[0m\u001b[0m\n\u001b[0;32m----> 4\u001b[0;31m     \u001b[0;32mwith\u001b[0m \u001b[0mopen\u001b[0m\u001b[0;34m(\u001b[0m\u001b[0mfilename\u001b[0m\u001b[0;34m,\u001b[0m \u001b[0;34m'r'\u001b[0m\u001b[0;34m)\u001b[0m \u001b[0;32mas\u001b[0m \u001b[0mf\u001b[0m\u001b[0;34m:\u001b[0m\u001b[0;34m\u001b[0m\u001b[0m\n\u001b[0m\u001b[1;32m      5\u001b[0m         \u001b[0;32mfor\u001b[0m \u001b[0mrowx\u001b[0m \u001b[0;32min\u001b[0m \u001b[0mf\u001b[0m\u001b[0;34m:\u001b[0m\u001b[0;34m\u001b[0m\u001b[0m\n\u001b[1;32m      6\u001b[0m             \u001b[0mr\u001b[0m\u001b[0;34m=\u001b[0m\u001b[0;34m{\u001b[0m\u001b[0;34m}\u001b[0m\u001b[0;34m\u001b[0m\u001b[0m\n",
        "\u001b[0;31mIOError\u001b[0m: [Errno 2] No such file or directory: 'atis.txt'"
       ]
      }
     ],
     "prompt_number": 2
    },
    {
     "cell_type": "markdown",
     "metadata": {},
     "source": []
    },
    {
     "cell_type": "markdown",
     "metadata": {},
     "source": []
    },
    {
     "cell_type": "code",
     "collapsed": false,
     "input": [],
     "language": "python",
     "metadata": {},
     "outputs": [],
     "prompt_number": 1
    },
    {
     "cell_type": "code",
     "collapsed": false,
     "input": [],
     "language": "python",
     "metadata": {},
     "outputs": []
    },
    {
     "cell_type": "code",
     "collapsed": false,
     "input": [],
     "language": "python",
     "metadata": {},
     "outputs": []
    },
    {
     "cell_type": "code",
     "collapsed": false,
     "input": [],
     "language": "python",
     "metadata": {},
     "outputs": []
    }
   ],
   "metadata": {}
  }
 ]
}